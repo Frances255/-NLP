{
 "cells": [
  {
   "cell_type": "markdown",
   "metadata": {},
   "source": [
    "## 读取数据\n",
    "\n",
    "读入酒店评论数据,统计正面评价和负面评价,共计9999条评论数据。**数据均在ChnSentiCorp_htl_unba_10000文件夹下。**"
   ]
  },
  {
   "cell_type": "code",
   "execution_count": 41,
   "metadata": {},
   "outputs": [
    {
     "name": "stdout",
     "output_type": "stream",
     "text": [
      "积极评论 6900 条\n",
      "消极评论 2999 条\n",
      "<class 'pandas.core.frame.DataFrame'>\n",
      "Int64Index: 9899 entries, 0 to 2998\n",
      "Data columns (total 2 columns):\n",
      "comment    9899 non-null object\n",
      "pos_neg    9899 non-null int64\n",
      "dtypes: int64(1), object(1)\n",
      "memory usage: 232.0+ KB\n",
      "None\n"
     ]
    },
    {
     "data": {
      "text/html": [
       "<div>\n",
       "<style scoped>\n",
       "    .dataframe tbody tr th:only-of-type {\n",
       "        vertical-align: middle;\n",
       "    }\n",
       "\n",
       "    .dataframe tbody tr th {\n",
       "        vertical-align: top;\n",
       "    }\n",
       "\n",
       "    .dataframe thead th {\n",
       "        text-align: right;\n",
       "    }\n",
       "</style>\n",
       "<table border=\"1\" class=\"dataframe\">\n",
       "  <thead>\n",
       "    <tr style=\"text-align: right;\">\n",
       "      <th></th>\n",
       "      <th>comment</th>\n",
       "      <th>pos_neg</th>\n",
       "    </tr>\n",
       "  </thead>\n",
       "  <tbody>\n",
       "    <tr>\n",
       "      <th>0</th>\n",
       "      <td>距离川沙公路较近,但是公交指示不对,如果是\"蔡陆线\"的话,会非常麻烦.建议用别的路线.房间较...</td>\n",
       "      <td>1</td>\n",
       "    </tr>\n",
       "    <tr>\n",
       "      <th>1</th>\n",
       "      <td>商务大床房，房间很大，床有2M宽，整体感觉经济实惠不错!</td>\n",
       "      <td>1</td>\n",
       "    </tr>\n",
       "    <tr>\n",
       "      <th>2</th>\n",
       "      <td>早餐太差，无论去多少人，那边也不加食品的。酒店应该重视一下这个问题了。房间本身很好。</td>\n",
       "      <td>1</td>\n",
       "    </tr>\n",
       "    <tr>\n",
       "      <th>3</th>\n",
       "      <td>宾馆在小街道上，不大好找，但还好北京热心同胞很多~宾馆设施跟介绍的差不多，房间很小，确实挺小...</td>\n",
       "      <td>1</td>\n",
       "    </tr>\n",
       "    <tr>\n",
       "      <th>4</th>\n",
       "      <td>CBD中心,周围没什么店铺,说5星有点勉强.不知道为什么卫生间没有电吹风</td>\n",
       "      <td>1</td>\n",
       "    </tr>\n",
       "  </tbody>\n",
       "</table>\n",
       "</div>"
      ],
      "text/plain": [
       "                                             comment  pos_neg\n",
       "0  距离川沙公路较近,但是公交指示不对,如果是\"蔡陆线\"的话,会非常麻烦.建议用别的路线.房间较...        1\n",
       "1                       商务大床房，房间很大，床有2M宽，整体感觉经济实惠不错!        1\n",
       "2         早餐太差，无论去多少人，那边也不加食品的。酒店应该重视一下这个问题了。房间本身很好。        1\n",
       "3  宾馆在小街道上，不大好找，但还好北京热心同胞很多~宾馆设施跟介绍的差不多，房间很小，确实挺小...        1\n",
       "4               CBD中心,周围没什么店铺,说5星有点勉强.不知道为什么卫生间没有电吹风        1"
      ]
     },
     "execution_count": 41,
     "metadata": {},
     "output_type": "execute_result"
    }
   ],
   "source": [
    "\n",
    "import numpy as np\n",
    "import os\n",
    "from time import time\n",
    "import matplotlib.pyplot as plt\n",
    "import seaborn as sns\n",
    "import pandas as pd\n",
    "import jieba\n",
    "\n",
    "from sklearn.datasets import fetch_20newsgroups#引入新闻数据包\n",
    "from sklearn.feature_extraction.text import TfidfVectorizer#做tfidf编码\n",
    "from sklearn.feature_selection import SelectKBest, chi2#卡方检验——特征筛选\n",
    "from sklearn.linear_model import RidgeClassifier\n",
    "from sklearn.svm import LinearSVC,SVC\n",
    "from sklearn.naive_bayes import MultinomialNB, BernoulliNB #引入多项式和伯努利的贝叶斯\n",
    "from sklearn.neighbors import KNeighborsClassifier\n",
    "from sklearn.ensemble import RandomForestClassifier\n",
    "from sklearn.model_selection import GridSearchCV\n",
    "# # SMOTE上采样\n",
    "from sklearn.model_selection import train_test_split\n",
    "# from imblearn.over_sampling import SMOTE\n",
    "from collections import Counter\n",
    "from sklearn import metrics \n",
    "plt.rcParams['font.sans-serif'] = ['SimHei']  \n",
    "\n",
    "# # 数据路径\n",
    "os.chdir('D:\\codePractice\\data\\\\ChnSentiCorp_htl_unba_10000\\\\')\n",
    "\n",
    "# 读取正面评论\n",
    "positive = pd.read_csv('./pos.csv')\n",
    "# 增加极性标签 \n",
    "positive['pos_neg']=1\n",
    "# 正面评论数据统计\n",
    "pos_len = len(positive)\n",
    "print(\"积极评论\",pos_len,\"条\")\n",
    "# positive.head()\n",
    "# positive.info()\n",
    "\n",
    "negative = pd.read_csv('./neg.csv')\n",
    "# 增加极性标签 \n",
    "negative['pos_neg']=-1\n",
    "# 负面评论\n",
    "neg_len = len(negative)\n",
    "print(\"消极评论\",neg_len,\"条\")\n",
    "# negative.head()\n",
    "# negative.info()\n",
    "\n",
    "# 合并评论\n",
    "comments = pd.concat([positive,negative])\n",
    "\n",
    "print(comments.info())\n",
    "# 9899条\n",
    "comments.head()"
   ]
  },
  {
   "cell_type": "markdown",
   "metadata": {},
   "source": [
    "## 数据预处理"
   ]
  },
  {
   "cell_type": "markdown",
   "metadata": {},
   "source": [
    "### 数据划分\n",
    "\n",
    "将数据划为特征x和标签y"
   ]
  },
  {
   "cell_type": "code",
   "execution_count": 42,
   "metadata": {},
   "outputs": [
    {
     "name": "stdout",
     "output_type": "stream",
     "text": [
      "总评论中的正负样本: Counter({1: 6900, -1: 2999})\n"
     ]
    },
    {
     "data": {
      "text/html": [
       "<div>\n",
       "<style scoped>\n",
       "    .dataframe tbody tr th:only-of-type {\n",
       "        vertical-align: middle;\n",
       "    }\n",
       "\n",
       "    .dataframe tbody tr th {\n",
       "        vertical-align: top;\n",
       "    }\n",
       "\n",
       "    .dataframe thead th {\n",
       "        text-align: right;\n",
       "    }\n",
       "</style>\n",
       "<table border=\"1\" class=\"dataframe\">\n",
       "  <thead>\n",
       "    <tr style=\"text-align: right;\">\n",
       "      <th></th>\n",
       "      <th>comment</th>\n",
       "    </tr>\n",
       "  </thead>\n",
       "  <tbody>\n",
       "    <tr>\n",
       "      <th>0</th>\n",
       "      <td>距离川沙公路较近,但是公交指示不对,如果是\"蔡陆线\"的话,会非常麻烦.建议用别的路线.房间较...</td>\n",
       "    </tr>\n",
       "    <tr>\n",
       "      <th>1</th>\n",
       "      <td>商务大床房，房间很大，床有2M宽，整体感觉经济实惠不错!</td>\n",
       "    </tr>\n",
       "    <tr>\n",
       "      <th>2</th>\n",
       "      <td>早餐太差，无论去多少人，那边也不加食品的。酒店应该重视一下这个问题了。房间本身很好。</td>\n",
       "    </tr>\n",
       "    <tr>\n",
       "      <th>3</th>\n",
       "      <td>宾馆在小街道上，不大好找，但还好北京热心同胞很多~宾馆设施跟介绍的差不多，房间很小，确实挺小...</td>\n",
       "    </tr>\n",
       "    <tr>\n",
       "      <th>4</th>\n",
       "      <td>CBD中心,周围没什么店铺,说5星有点勉强.不知道为什么卫生间没有电吹风</td>\n",
       "    </tr>\n",
       "  </tbody>\n",
       "</table>\n",
       "</div>"
      ],
      "text/plain": [
       "                                             comment\n",
       "0  距离川沙公路较近,但是公交指示不对,如果是\"蔡陆线\"的话,会非常麻烦.建议用别的路线.房间较...\n",
       "1                       商务大床房，房间很大，床有2M宽，整体感觉经济实惠不错!\n",
       "2         早餐太差，无论去多少人，那边也不加食品的。酒店应该重视一下这个问题了。房间本身很好。\n",
       "3  宾馆在小街道上，不大好找，但还好北京热心同胞很多~宾馆设施跟介绍的差不多，房间很小，确实挺小...\n",
       "4               CBD中心,周围没什么店铺,说5星有点勉强.不知道为什么卫生间没有电吹风"
      ]
     },
     "execution_count": 42,
     "metadata": {},
     "output_type": "execute_result"
    }
   ],
   "source": [
    "# # # 样本不均衡\n",
    "x = pd.DataFrame(comments.comment)\n",
    "y = comments.pos_neg\n",
    "# 查看SMOTE之前的数据分布 \n",
    "print(\"总评论中的正负样本:\",Counter(y))\n",
    "# Counter({1: 6900, -1: 2999})\n",
    "\n",
    "# # 定义SMOTE模型，random_state相当于随机数种子的作用\n",
    "# smo = SMOTE(random_state=42)\n",
    "# X_smo, y_smo = smo.fit_sample(x, y)\n",
    "\n",
    "# # 查看SMOTE之后的数据分布 \n",
    "# print(Counter(y_smo))\n",
    "\n",
    "# # 数据集划分\n",
    "# x_train,x_test,y_train,y_test = train_test_split(x,y,\n",
    "#                                                  test_size=0.2,\n",
    "#                                                  random_state=0)\n",
    "\n",
    "# # # 训练集\n",
    "# x_train[:5]\n",
    "# print(\"训练集中的正负样本：\",Counter(y_train))\n",
    "\n",
    "# # # 测试集\n",
    "# x_test[:5]\n",
    "# print(\"测试集中的正负样本：\",Counter(y_test))\n",
    "\n",
    "x.head()"
   ]
  },
  {
   "cell_type": "markdown",
   "metadata": {},
   "source": [
    "### 文档转化向量"
   ]
  },
  {
   "cell_type": "markdown",
   "metadata": {},
   "source": [
    "#### 读取停用词\n",
    "\n",
    "读取停用词词典，共计1234个停用词。"
   ]
  },
  {
   "cell_type": "code",
   "execution_count": 43,
   "metadata": {},
   "outputs": [
    {
     "name": "stdout",
     "output_type": "stream",
     "text": [
      "一共含有1207个停用词\n"
     ]
    },
    {
     "data": {
      "text/plain": [
       "['如下', '汝', '三番两次', '三番五次', '三天两头', '瑟瑟', '沙沙', '上', '上来', '上去']"
      ]
     },
     "execution_count": 43,
     "metadata": {},
     "output_type": "execute_result"
    }
   ],
   "source": [
    "# 读取停用词词库\n",
    "def get_stopwords(stop_words_file):\n",
    "    with open(stop_words_file,'r',encoding='utf-8') as f:\n",
    "        stopwords = f.read()\n",
    "    stopwords_list = stopwords.split('\\n')\n",
    "    custom_stopwords_list = [i for i in stopwords_list]\n",
    "    return custom_stopwords_list\n",
    "\n",
    "\n",
    "# 中科院停用词\n",
    "stop_words_file =\"./stopWord.txt\"\n",
    "# 读取停用词 \n",
    "stopwords = get_stopwords(stop_words_file)[1:]\n",
    "# 统计停用词个数\n",
    "print(\"一共含有%d个停用词\" % len(stopwords))\n",
    "# 查看前10个停用词\n",
    "stopwords[-10:]"
   ]
  },
  {
   "cell_type": "markdown",
   "metadata": {},
   "source": [
    "#### 分词\n",
    "\n",
    "结巴分词，并去除英文和数字"
   ]
  },
  {
   "cell_type": "code",
   "execution_count": 44,
   "metadata": {},
   "outputs": [],
   "source": [
    "import re\n",
    "\n",
    "# 分词预处理\n",
    "def clean_text(line):\n",
    "    if line!=' ':\n",
    "        line = line.strip()\n",
    "        # 去除英文和数字\n",
    "        line = re.sub(\"[a-zA-Z0-9]\",\"\",line)\n",
    "        # 去除文本中的中文符号和英文符号 \n",
    "        line = re.sub(\"[\\s+\\.\\,\\!\\/_,$%^*(+\\\"\\'；：“”．]+|[+——！，。？?、~@#￥%……&*（）]+\", \"\", line)\n",
    "        return line\n",
    "    else:\n",
    "        return \"Empyt Line.\"\n",
    "    \n",
    "# 结巴分词\n",
    "def chinese_word_cut(line):\n",
    "    line = clean_text(line)\n",
    "    segList = jieba.cut(line,cut_all=False)\n",
    "    segSentence = ''\n",
    "    for word in segList:\n",
    "        if word!='\\t' and (word not in stopwords):\n",
    "            segSentence += (word+\" \")\n",
    "    return segSentence.strip()"
   ]
  },
  {
   "cell_type": "code",
   "execution_count": 45,
   "metadata": {},
   "outputs": [
    {
     "name": "stdout",
     "output_type": "stream",
     "text": [
      "(9899, 2)\n"
     ]
    },
    {
     "data": {
      "text/plain": [
       "0               距离 川沙 公路 较近 公交 指示 蔡陆线 麻烦 建议 路线 房间 较为简单\n",
       "1                    商务 大床 房 房间 很大 床有 宽 整体 感觉 经济 实惠 不错\n",
       "2                   早餐 太 差 人 不加 食品 酒店 应该 重视 一下 问题 房间 好\n",
       "3    宾馆 小 街道 不大好 找 还好 北京 热心 同胞 宾馆 设施 介绍 房间 很小 确实 挺 ...\n",
       "4                     中心 周围 没什么 店铺 说星 有点 勉强 知道 卫生间 电吹风\n",
       "Name: cutted_comment, dtype: object"
      ]
     },
     "execution_count": 45,
     "metadata": {},
     "output_type": "execute_result"
    }
   ],
   "source": [
    "# 评论分词 \n",
    "x['cutted_comment'] = x.comment.apply(chinese_word_cut)\n",
    "print(x.shape)\n",
    "# (9899, 2)\n",
    "\n",
    "# # 分词结果\n",
    "x.cutted_comment[:5]\n",
    "## BOW TFIDF WORD2VECh获取特征 "
   ]
  },
  {
   "cell_type": "markdown",
   "metadata": {},
   "source": [
    "#### 文本向量表示\n",
    "\n",
    "利用词袋模型将文本向量化。\n",
    "- 利用停用词过滤;\n",
    "- max_df = 0.9设置为0.9，即一个词语在90%以上的文件中出现则不能作为特征词语;\n",
    "- min_df=3设置为3，即一个词语最少在3个文件中出现过才能当作特征词语;"
   ]
  },
  {
   "cell_type": "code",
   "execution_count": 46,
   "metadata": {},
   "outputs": [],
   "source": [
    "from sklearn.feature_extraction.text import CountVectorizer\n",
    "# 过滤部分特征\n",
    "# 最大比例\n",
    "max_df = 0.9\n",
    "# 最小支持度\n",
    "min_df = 3\n",
    "# 加入token\n",
    "token_pattern = u'(?u)\\\\b[^\\\\d\\\\W]\\\\w+\\\\b'\n",
    "\n",
    "# 构建cbow向量\n",
    "vectorizer = CountVectorizer(min_df = min_df,\n",
    "               token_pattern=token_pattern,\n",
    "               stop_words=frozenset(stopwords))"
   ]
  },
  {
   "cell_type": "markdown",
   "metadata": {},
   "source": [
    "#### 训练集和测试集划分\n",
    "\n",
    "按照8:2将数据集划为为训练集和测试集"
   ]
  },
  {
   "cell_type": "code",
   "execution_count": 47,
   "metadata": {},
   "outputs": [
    {
     "name": "stdout",
     "output_type": "stream",
     "text": [
      "训练集中的正负样本： Counter({1: 5516, -1: 2403})\n",
      "训练集样本个数:7919,特征个数:8347\n",
      "测试集中的正负样本： Counter({1: 1384, -1: 596})\n",
      "测试集样本个数:1980,特征个数:8347\n",
      "\n",
      "特征筛选前特征个数:8347\n",
      "词汇:['一一' '一下' '一下下' ... '龙卡' '龙头' '龙门石窟']\n"
     ]
    },
    {
     "data": {
      "text/plain": [
       "5279                交通 便利 环境 尚可 提供 早餐 比较 好 旧 一点 总体 说 令人满意\n",
       "2929                                                喜欢 下次\n",
       "5496    六号楼 龙岩 地区 目前 最好 宾馆 硬件 新 服务 感觉 不错 美中不足 暖气 不行 晚上...\n",
       "5253    白天 恐龙 园 游玩 过后 月 号 富 商贸 酒店 住 一晚 住 元 高级 双床 房 最 普...\n",
       "3078                  总体 感觉 比较 好 环境 一点 吵 挨近 一条 高架路 服务态度 好\n",
       "Name: cutted_comment, dtype: object"
      ]
     },
     "execution_count": 47,
     "metadata": {},
     "output_type": "execute_result"
    }
   ],
   "source": [
    "# 数据集划分\n",
    "x_train,x_test,y_train,y_test = train_test_split(x,y,\n",
    "                                                 test_size=0.2,\n",
    "                                                 random_state=0)\n",
    "\n",
    "# 训练集和测试集\n",
    "x_train = x_train['cutted_comment']\n",
    "x_test = x_test['cutted_comment']\n",
    "\n",
    "# 文本向量化\n",
    "train_x = vectorizer.fit_transform(x_train)\n",
    "test_x = vectorizer.transform(x_test)\n",
    "\n",
    "# # 训练集\n",
    "x_train[:5]\n",
    "print(\"训练集中的正负样本：\",Counter(y_train))\n",
    "print(\"训练集样本个数:%d,特征个数:%d\" % train_x.shape)\n",
    "\n",
    "# # 测试集\n",
    "x_test[:5]\n",
    "print(\"测试集中的正负样本：\",Counter(y_test))\n",
    "print(\"测试集样本个数:%d,特征个数:%d\\n\" % test_x.shape)\n",
    "\n",
    "feature_names = np.asarray(vectorizer.get_feature_names())\n",
    "print(\"特征筛选前特征个数:{}\\n词汇:{}\".format(len(feature_names),feature_names))\n",
    "# # 训练文本\n",
    "x_train.head()"
   ]
  },
  {
   "cell_type": "markdown",
   "metadata": {},
   "source": [
    "## 特征选择\n",
    "\n",
    "上一步可以看到，通过停用词和min_df、max_df的筛选之后，特征词语有8347个，为了降维，此步通过卡方进行特征选择。卡方进行特征值选择之后保留与y最相关的1000个词。"
   ]
  },
  {
   "cell_type": "code",
   "execution_count": 48,
   "metadata": {},
   "outputs": [
    {
     "name": "stdout",
     "output_type": "stream",
     "text": [
      "特征筛选后特征个数:1000\n",
      "\n",
      "1000个特征词汇为:\n",
      " ['一下', '一个', '一会', '一分', '一分货', '一口咬定', '一句', '一只', '一块', '一堆', '一塌糊涂', '一夜', '一天', '一座', '一张', '一无是处', '一早', '一晚', '一次', '一次性', '一流', '一直', '一看', '一碰', '一米', '一股', '一间', '万豪', '三个', '三思', '三星', '三星级', '上当', '上面', '下午', '下咽', '下来', '下楼', '下次', '下水管', '下水道', '不住', '不信', '不值', '不停', '不到', '不去', '不可思议', '不好', '不想', '不敢', '不敢恭维', '不来', '不热', '不爽', '不理', '不知', '不符', '不肯', '不行', '不见', '不象话', '不负责任', '不足', '不远', '不错', '东西', '丢人', '两个', '两张', '两样', '严重', '中午', '中央空调', '中年男人', '丰富', '丰盛', '临时', '为此', '久久', '义务', '之下', '之后', '之差', '之星', '九洲', '乱收费', '争执', '事件', '事先', '事情', '二十分钟', '二星', '交涉', '交警', '交通', '产生', '亲切', '亲戚', '人员', '人理', '今后', '从没', '付钱', '代理', '令人', '令人气愤', '以上', '以为', '以后', '以来', '价格合理', '企业', '休闲', '会员', '会员卡', '传真', '估计', '位置', '低下', '低档', '低级', '住天', '住店', '依然', '便利', '保安', '保证', '信任', '信号', '信用卡', '修好', '修理', '值得', '值班', '偏僻', '做事', '做出', '停电', '催促', '傻子', '先到', '免费', '入主', '入住', '入睡', '全价', '全国', '全是', '全部', '八点', '公园', '公安部门', '六点', '关不上', '关不紧', '关了', '其他人', '具体', '典型', '再也', '再也不会', '再住', '再换', '再次', '写字台', '写明', '冰冷', '冲凉', '决不会', '冷冰冰', '冷水', '冷淡', '冷热水', '冻死', '冻结', '凉水', '凌晨', '凑合', '几个', '几十块', '凯悦', '出奇', '出水', '出现', '出面', '分数', '分钟', '划算', '刚刚', '删除', '到位', '到极点', '到达', '刷卡', '刺鼻', '剃须刀', '前台', '剥落', '剩下', '办公楼', '办法', '办理', '加收', '劣质', '动手', '勉强', '千万别', '升级', '半个', '半夜', '半天', '半小时', '半岛', '协议', '单据', '卡车', '卫生', '卫生条件', '卫生间', '厕所', '厕纸', '原本', '原来', '反感', '反映', '反正', '反锁', '发现', '发生', '发票', '发脾气', '发誓', '发霉', '发黄', '发黑', '取消', '受不了', '受气', '变成', '口味', '只好', '只能', '只见', '可怕', '可怜', '可恶', '可想而知', '可气', '可笑', '号称', '合作', '合作伙伴', '合理', '吉林省', '同事', '同意', '同样', '后悔', '后来者', '后面', '吓人', '君悦', '听到', '吵得', '吵架', '告知', '告诉', '周到', '周末', '呵呵', '咸菜', '品种', '商场', '喀什', '喇叭', '喜来登', '喜欢', '噩梦', '噪音', '四星', '四星级', '四点', '回复', '回来', '回答', '图片', '地上', '地下室', '地址', '地方', '地板', '地步', '地毯', '地理位置', '坑人', '坚决', '坚持', '垃圾', '堵塞', '塑料', '墙体', '墙壁', '墙纸', '声音', '处理', '备用', '复杂', '外机', '外面', '多年', '多收', '夜里', '大声', '大失所望', '大跌眼镜', '太乱', '太低', '太偏', '太吵', '太差', '太旧', '太烂', '太高', '失望', '头发', '奇差', '奇慢', '奉劝', '好不容易', '好像', '好点', '如家', '字差', '安装', '安静', '完全', '定单', '定房', '宜家', '实在', '实惠', '实际', '客人', '客户', '客房', '客房部', '客服', '客观', '家具', '宽敞', '宾馆', '密封', '对不起', '对方', '对此', '导航', '尊重', '小到', '小姐', '小得', '小时', '少得', '尤其', '就让', '屋子里', '屋里', '岂有此理', '崩溃', '工地', '差劲', '差多', '差太差', '差差', '差得', '差远了', '已经', '市中心', '市场经济', '师傅', '帐单', '帐户', '席梦思', '干净', '干吗', '平安', '平方米', '平遥', '年代', '幽静', '广告业务', '广场', '床上', '床单', '店大欺客', '度假', '延时', '延迟', '建议', '开发票', '开房', '开裂', '开门', '异味', '弄脏', '弄脏了', '弥漫着', '弹簧', '强烈', '强烈建议', '强烈要求', '当天', '当时', '形容', '很大', '很小', '很差', '很快', '很棒', '很浓', '很漂亮', '很烂', '很脏', '很近', '很远', '得到', '心寒', '心情', '忍受', '快捷酒店', '怀疑', '态度', '态度恶劣', '态度生硬', '怎么回事', '性价比', '怪味', '总体', '总台', '总算', '恐怖', '恶劣', '恶心', '恼火', '情况', '情愿', '惊喜', '惬意', '想想', '想着', '愉快', '意思', '意识', '感冒', '感动', '感觉', '感觉不好', '慎重', '慎重考虑', '懒得', '我用', '我能', '我花', '我要', '房价', '房到', '房卡', '房客', '房租', '房费', '房钱', '房门', '房间', '所有', '所谓', '手机', '手段', '手续', '手续费', '才行', '扑鼻', '打不开', '打个', '打印', '打开', '打扫', '打电话', '打算', '打车', '批评', '找钱', '承担', '承认', '承诺', '投诉', '折腾', '报警', '抱歉', '押金', '抽水马桶', '拒绝', '拖拉机', '招待所', '拨打', '持续', '损坏', '换房', '授权', '掉下来', '排气扇', '接到', '接线', '接线员', '描述', '提出', '插座', '搞笑', '搞错', '搬家', '搬走', '携城', '携程', '携程网', '支付', '收到', '收拾', '收费', '收银', '改进', '放在', '教育', '散步', '敲门', '整个', '整体', '整晚', '整洁', '斑驳', '方便', '方巾', '施工', '旅店', '旅游局', '旅馆', '旋转', '无奈', '无法', '无能为力', '无表情', '无语', '早上', '早就', '早晨', '早餐', '早餐券', '时说', '时间', '明明', '明显', '明白', '昏暗', '星座', '星级', '昨晚', '是不是', '是否', '晓得', '晕倒', '晕死', '晚上', '景色', '暖气', '曲阜', '更别', '更换', '更让人', '最可气', '最后', '最多', '最好', '最小', '最差', '最烂', '最让人', '有人', '有房', '有无', '有没有', '有点', '服务', '服务员', '服务周到', '服务质量', '本店', '本来', '机器', '杜绝', '来说', '杭州', '杯子', '极低', '极小', '极差', '查房', '标准间', '标榜', '样子', '核对', '根本', '根本就是', '桌子', '椅子', '欺诈', '欺骗', '歉意', '正常', '正规', '正面', '此事', '此种', '步行', '死活', '段时间', '每间', '比例', '比较', '比较满意', '毛巾', '气味', '气愤', '气死', '气派', '水土不服', '水平', '水果', '水管', '水箱', '水龙头', '永远', '汉庭', '汕尾', '污水', '污渍', '污迹', '沟通', '没人', '没人来', '没想到', '没敢', '没法', '没洗', '没用', '没睡', '没窗', '没见', '没门', '河南人', '油漆', '注册', '洗不掉', '洗个', '洗手', '洗洁精', '洗涤', '洗澡', '洗脸', '浴巾', '海景', '海鲜', '消毒', '消费', '消费者', '淘汰', '深表歉意', '混乱', '清楚', '温馨', '游泳池', '满意', '漂亮', '漏水', '潮湿', '灰尘', '点前', '点半', '点多', '点评', '烂尾楼', '烟味', '烧水', '热情', '热情周到', '热水', '照片', '燕赵', '牙刷', '物品', '物有所值', '物超所值', '特价', '特色', '状态', '狡辩', '狭小', '环境', '现在', '现金', '理由', '理直气壮', '理睬', '理论', '甚远', '生存', '生手', '生日', '生气', '用户', '用车', '用过', '甲醛', '电梯', '电源', '电灯', '电视', '电视信号', '电话', '男友', '男子', '男服务员', '略显', '登记', '白色', '皇家', '皮球', '监控', '盒子', '盖章', '直到', '直接', '相信', '相关', '相同', '相差', '看看', '看着', '真不知道', '真是', '真是太', '真的', '真诚', '眼睛', '睡不着', '睡个', '睡着', '睡觉', '知道', '矿泉水瓶', '破旧', '破洞', '确定', '确实', '确认', '福州', '离开', '积分', '稍后', '空调', '突然', '窗户', '竟是', '第一', '第一个', '第一印象', '第一次', '第一间', '第三', '第二', '第二天', '第二间', '第五', '第四', '第天', '等待', '答复', '答应', '签字', '签约', '简陋', '算了', '算是', '管理', '管理人员', '箱子', '精致', '糟糕', '素质', '索引', '细心', '细节', '终于', '经历', '经理', '结帐', '结算', '绝不会', '维修', '缺点', '网上', '网站', '网管', '网线', '美中不足', '老鼠', '考察', '聊天', '联系', '肮脏', '脏乱差', '脏兮兮', '脏得', '脾气', '自动', '自助餐', '自来水', '自称', '臭味', '致电', '舒服', '舒适', '花园', '英才', '莫泰', '蛮横', '蟑螂', '血迹', '行为', '行政', '街边', '补偿', '补充', '表示', '被单', '被子', '被罩', '裸露', '西湖', '要加', '要命', '要收', '要死', '要求', '见过', '规定', '解决', '解决问题', '解释', '订单', '认识', '讲话', '设备陈旧', '设置', '证明', '评分', '诚信', '诚意', '诚聘', '误导', '说明', '说水', '说话', '请问', '调换', '调整', '调查', '调试', '谈不上', '象是', '负责人', '责任', '质疑', '质问', '购物', '贴心', '贵阳', '费用', '赔偿', '赚钱', '赠送', '走人', '走廊', '赶紧', '起床', '超值', '超小', '超差', '足疗', '足足', '跟前', '跟着', '跟踪', '跳蚤', '身份', '身份证', '转到', '转身', '轰鸣', '较差', '过分', '过敏', '过来', '过道', '过问', '近点', '返还', '还会', '还要', '这家', '这种', '这话', '进行', '进门', '连个', '连锁', '迹象', '退房', '适中', '适合', '逃走', '通知', '遇到', '道歉', '遗憾', '遥控器', '遭遇', '那间', '郁闷', '鄙视', '酒店', '里面', '金牌', '针对', '钟才', '钟点房', '钥匙', '钻石', '银行', '锅炉房', '错误', '锦地', '锦江', '长期', '门卡', '门卫', '门锁', '问题', '闹中取静', '闻所未闻', '阳台', '阴暗', '陈旧', '随后', '隔壁', '隔音', '难以', '难以忍受', '难受', '难吃', '难闻', '震惊', '霉味', '非常重视', '面上', '鞍山', '顾客', '预付', '预定', '预订', '领教', '风扇', '风景', '风格', '飞机', '食堂', '餐具', '餐券', '饮水机', '饮用水', '馒头', '首选', '香港', '马桶', '骗人', '高价', '鸡蛋', '黄色', '黑乎乎', '黑店', '黑色', '黑黑的', '齐全']\n"
     ]
    }
   ],
   "source": [
    "# # 特征选择\n",
    "ch2 = SelectKBest(chi2,k=1000)\n",
    "x_train = ch2.fit_transform(train_x,y_train)\n",
    "x_test = ch2.transform(test_x)\n",
    "feature_names = [feature_names[i] for i in \n",
    "                 ch2.get_support(indices=True)]\n",
    "\n",
    "# # 特征词查看\n",
    "print(\"特征筛选后特征个数:{}\\n\\n1000个特征词汇为:\\n {}\".format(len(feature_names),feature_names))"
   ]
  },
  {
   "cell_type": "markdown",
   "metadata": {},
   "source": [
    "## 构建不同的分类器\n",
    "\n",
    "- 构建多种分类器：线性最小二乘L2正则(RidgeClassiﬁer)、K近邻 (KNeighborsClassiﬁer)、朴素贝叶斯(MultinomialNB)、随机森林(RandomForestClassiﬁer)、SVM(SVC:hinge损失 的绝对值)、线性核SVM(LinearSVC:平方hinge损失+L1正则)、线性核SVM(LinearSVC:平方hinge损失+L2正则)\n",
    "- 通过网格搜索找到最优参数\n"
   ]
  },
  {
   "cell_type": "code",
   "execution_count": 49,
   "metadata": {},
   "outputs": [],
   "source": [
    "# # 基准模型 \n",
    "def benchmark(clf,name):\n",
    "    print(\"分类器:\",clf)\n",
    "    \n",
    "    # 设置最优参数，5折交叉验证\n",
    "    alpha_can = np.logspace(-2,1,10)\n",
    "    model = GridSearchCV(clf,param_grid={'alpha':\n",
    "                                         alpha_can}, cv=5)\n",
    "    m = alpha_can.size\n",
    "    \n",
    "    # alpha参数\n",
    "    if hasattr(clf,'alpha'):\n",
    "        model.set_params(param_grid={'alpha':alpha_can})\n",
    "        m = alpha_can.size\n",
    "        \n",
    "    # k近邻\n",
    "    if hasattr(clf,'n_neighbors'):\n",
    "        neighbors_can = np.arange(1,15)\n",
    "        model.set_params(param_grid={'n_neighbors':\n",
    "                                     neighbors_can})\n",
    "        m = neighbors_can.size\n",
    "        \n",
    "    # LinearSVC参数\n",
    "    if hasattr(clf,'C'):\n",
    "        C_can = np.logspace(1,3,3)\n",
    "        model.set_params(param_grid={'C':C_can})\n",
    "        \n",
    "    # SVM参数\n",
    "    if hasattr(clf,'C') & hasattr(clf,'gamma'):\n",
    "        C_can = np.logspace(1,3,3)\n",
    "        gamma_can = np.logspace(-3,0,3)\n",
    "        model.set_params(param_grid={'C':C_can,'gamma':gamma_can})\n",
    "        m = C_can.size*gamma_can.size\n",
    "    # 深度参数\n",
    "    if hasattr(clf,'max_depth'):\n",
    "        max_depth_can = np.arange(4,10)\n",
    "        model.set_params(param_grid={'max_depth':max_depth_can})\n",
    "        m = max_depth_can.size\n",
    "        \n",
    "    # # 训练模型\n",
    "    t_start = time()\n",
    "    model.fit(train_x,y_train)\n",
    "    t_end = time()\n",
    "    t_train = (t_end-t_start)/(5*m)\n",
    "    print(\"5折交叉验证的训练时间为:%.3f/(5*%d)=%.3f秒\"\n",
    "         %((t_end-t_start),m,t_train))\n",
    "    print(\"最优参数为:\",model.best_params_)\n",
    "    \n",
    "    # # 模型预测 \n",
    "    t_start = time()\n",
    "    y_hat = model.predict(test_x)\n",
    "    t_end = time()\n",
    "    t_test = t_end -t_start\n",
    "    print(\"测试时间：%.3f秒\"%t_test)\n",
    "     \n",
    "    # # 模型评估 \n",
    "    # # 训练集\n",
    "    train_acc = metrics.accuracy_score(y_train,\n",
    "                                       model.predict(\n",
    "                                           train_x))\n",
    "    # # 测试集 \n",
    "    test_acc = metrics.accuracy_score(y_test,y_hat)\n",
    "    print(\"训练集准确率:%.2f%%\"%(100*train_acc))\n",
    "    print(\"测试集准确率:%.2f%%\"%(100*test_acc))\n",
    "    \n",
    "    # # 返回结果\n",
    "    return t_train,t_test,1-train_acc,1-test_acc,name"
   ]
  },
  {
   "cell_type": "code",
   "execution_count": 51,
   "metadata": {},
   "outputs": [
    {
     "name": "stdout",
     "output_type": "stream",
     "text": [
      "分类器的比较:\n",
      "\n",
      "分类器: RidgeClassifier(alpha=1.0, class_weight=None, copy_X=True, fit_intercept=True,\n",
      "        max_iter=None, normalize=False, random_state=None, solver='auto',\n",
      "        tol=0.001)\n",
      "5折交叉验证的训练时间为:41.859/(5*10)=0.837秒\n",
      "最优参数为: {'alpha': 0.21544346900318834}\n",
      "测试时间：0.000秒\n",
      "训练集准确率:88.95%\n",
      "测试集准确率:86.62%\n",
      "\n",
      "\n",
      "分类器: KNeighborsClassifier(algorithm='auto', leaf_size=30, metric='minkowski',\n",
      "           metric_params=None, n_jobs=1, n_neighbors=5, p=2,\n",
      "           weights='uniform')\n",
      "5折交叉验证的训练时间为:95.239/(5*14)=1.361秒\n",
      "最优参数为: {'n_neighbors': 1}\n",
      "测试时间：0.389秒\n",
      "训练集准确率:99.97%\n",
      "测试集准确率:80.61%\n",
      "\n",
      "\n",
      "分类器: MultinomialNB(alpha=1.0, class_prior=None, fit_prior=True)\n",
      "5折交叉验证的训练时间为:0.325/(5*10)=0.007秒\n",
      "最优参数为: {'alpha': 0.21544346900318834}\n",
      "测试时间：0.000秒\n",
      "训练集准确率:91.67%\n",
      "测试集准确率:87.07%\n",
      "\n",
      "\n",
      "分类器: RandomForestClassifier(bootstrap=True, class_weight=None, criterion='gini',\n",
      "            max_depth=None, max_features='auto', max_leaf_nodes=None,\n",
      "            min_impurity_decrease=0.0, min_impurity_split=None,\n",
      "            min_samples_leaf=1, min_samples_split=2,\n",
      "            min_weight_fraction_leaf=0.0, n_estimators=200, n_jobs=1,\n",
      "            oob_score=False, random_state=None, verbose=0,\n",
      "            warm_start=False)\n",
      "5折交叉验证的训练时间为:17.168/(5*6)=0.572秒\n",
      "最优参数为: {'max_depth': 9}\n",
      "测试时间：0.044秒\n",
      "训练集准确率:72.82%\n",
      "测试集准确率:72.27%\n",
      "\n",
      "\n",
      "分类器: SVC(C=1.0, cache_size=200, class_weight=None, coef0=0.0,\n",
      "  decision_function_shape='ovr', degree=3, gamma='auto', kernel='rbf',\n",
      "  max_iter=-1, probability=False, random_state=None, shrinking=True,\n",
      "  tol=0.001, verbose=False)\n",
      "5折交叉验证的训练时间为:477.596/(5*9)=10.613秒\n",
      "最优参数为: {'C': 100.0, 'gamma': 0.001}\n",
      "测试时间：0.864秒\n",
      "训练集准确率:97.47%\n",
      "测试集准确率:89.49%\n",
      "\n",
      "\n",
      "分类器: LinearSVC(C=1.0, class_weight=None, dual=False, fit_intercept=True,\n",
      "     intercept_scaling=1, loss='squared_hinge', max_iter=1000,\n",
      "     multi_class='ovr', penalty='l1', random_state=None, tol=0.0001,\n",
      "     verbose=0)\n",
      "5折交叉验证的训练时间为:15.466/(5*10)=0.309秒\n",
      "最优参数为: {'C': 10.0}\n",
      "测试时间：0.001秒\n",
      "训练集准确率:99.87%\n",
      "测试集准确率:87.07%\n",
      "\n",
      "\n",
      "分类器: LinearSVC(C=1.0, class_weight=None, dual=False, fit_intercept=True,\n",
      "     intercept_scaling=1, loss='squared_hinge', max_iter=1000,\n",
      "     multi_class='ovr', penalty='l2', random_state=None, tol=0.0001,\n",
      "     verbose=0)\n",
      "5折交叉验证的训练时间为:17.259/(5*10)=0.345秒\n",
      "最优参数为: {'C': 10.0}\n",
      "测试时间：0.001秒\n",
      "训练集准确率:99.85%\n",
      "测试集准确率:86.97%\n",
      "\n",
      "\n"
     ]
    }
   ],
   "source": [
    "# # 不同分类器比较\n",
    "print(\"分类器的比较:\\n\")\n",
    "clfs = [\n",
    "    [RidgeClassifier(),'Ridge'],# 线性分类器-最小二乘+L2正则\n",
    "    [KNeighborsClassifier(),'KNN'],# K临近\n",
    "    [MultinomialNB(),'MultinomialNB'],# 朴素贝叶斯\n",
    "    [RandomForestClassifier(n_estimators=200),'RandomForest'],# 随机森林\n",
    "    [SVC(),'SVM'],# svm:采用svc(),损失是hinge损失的绝对值\n",
    "    [LinearSVC(loss='squared_hinge',penalty='l1', # 线性可分支持向量积,平方Hinge损失+L1正则\n",
    "               dual=False,tol=1e-4),'LinearSVC-l1'],\n",
    "    [LinearSVC(loss='squared_hinge',penalty='l2', # 线性可分支持向量积,平方Hinge损失+L2正则\n",
    "               dual=False,tol=1e-4),'LinearSVC-l2']\n",
    "]\n",
    "\n",
    "# # 训练数据保存到列表\n",
    "result = []\n",
    "for clf,name in clfs:\n",
    "    # 计算结果 \n",
    "    a = benchmark(clf,name)\n",
    "    result.append(a)\n",
    "    print('\\n')\n",
    "# # \n",
    "result = np.array(result)"
   ]
  },
  {
   "cell_type": "markdown",
   "metadata": {},
   "source": [
    "## 模型比较"
   ]
  },
  {
   "cell_type": "code",
   "execution_count": 52,
   "metadata": {},
   "outputs": [
    {
     "data": {
      "image/png": "[encoded data removed]",
      "text/plain": [
       "<Figure size 720x504 with 2 Axes>"
      ]
     },
     "metadata": {},
     "output_type": "display_data"
    }
   ],
   "source": [
    "# 数据 \n",
    "result = [[x[i] for x in result] for i in range(5)]\n",
    "training_time,test_time,traning_err,test_err,clf_names =  result\n",
    "\n",
    "training_time = np.array(training_time).astype(np.float)\n",
    "test_time = np.array(test_time).astype(np.float)\n",
    "traning_err = np.array(traning_err).astype(np.float)\n",
    "test_err = np.array(test_err).astype(np.float)\n",
    "\n",
    "# 可视化\n",
    "x = np.arange(len(training_time))\n",
    "plt.figure(figsize=(10,7),facecolor='w')\n",
    "ax = plt.axes()\n",
    "b0 = ax.bar(x+0.1,traning_err,width=0.2,color='#77E0A0')\n",
    "b1 = ax.bar(x+0.3,test_err,width=0.2,color='#8800FF')\n",
    "ax2 = ax.twinx()\n",
    "b2 = ax.bar(x+0.5,training_time,width=0.2,color='#FFA0A0')\n",
    "b3 = ax2.bar(x+0.7,test_time,width=0.2,color='#FF8080')\n",
    "plt.xticks(x+0.5,clf_names)\n",
    "plt.legend([b0[0],b1[0],b2[0],b3[0]],(\"训练集错误率:\",\n",
    "                                   \"测试集错误率\",\n",
    "                                  \"训练时间\",\n",
    "                                  \"预测时间\"),\n",
    "                                  loc = 'upper left',\n",
    "                                  shadow = True)\n",
    "\n",
    "plt.title(\"酒店评论文本分类及不同分类器比较\",fontsize=18)\n",
    "plt.xlabel(\"分类器名称\")\n",
    "plt.grid(True)\n",
    "plt.tight_layout(2)\n",
    "plt.show()"
   ]
  },
  {
   "cell_type": "markdown",
   "metadata": {},
   "source": [
    "## 结果分析\n",
    "\n",
    "- 多种分类器中，SVM和KNN依然训练时间高于其他分类，Ridg线性分类器训练时间也相对较长。但是SVM虽然训练时间长，其分类准确率在训练集和测试集都很高，表现良好。KNN在文本分类中效率较为低下，耗时长且错误率高。其余的分类器表现差异不大。\n",
    "\n",
    "- 但在模型训练过程中，LinearSVC-l1报了收敛警告，LinearSVC-l2没有收敛警告，且表现不错。对比高斯核SVM(利用SVC类),线性核LinearSVC-l1(利用LinearSVC类，hinge损失的绝对值，惩罚项是l1)以及线性核LinearSVC-l2(利用 hinge损失的绝对值，惩罚项是l2)。 高斯核SVM虽然时间消耗大，但是表现良好。由于非线性核函数，该项目中是针对文本情感分类，利用CBOW模型进 行向量化，提取部分特征之后非线性变化。分析认为是文本信息和数值数据本身就不一样，文本数据的模型刻画中已 经进行了很多抽象化的操作，所以非线性变化较为合适。\n",
    "\n",
    "- LinearSVC类是基于liblinear,罚函数是对截矩进行惩罚，损失函数是基于hing损失的平方，可以用梯度下降优化。 SVC基于libsvm，罚函数不是对截矩进行惩罚，损失函数基于hing损失(非凸)，无法使用梯度下降求解。SVM解决问 题时，问题是分为线性可分和线性不可分问题的，liblinear对线性可分问题做了优化，故在大量数据上收敛速度比 libsvm快。这也合理的解释了上图中时间维度信息。 对于不同的惩罚函数，线性核LinearSVC-l1采用l1作为惩罚项，线性核LinearSVC-l2采用l2作为惩罚项，LinearSVC-l1 有收敛性警告，但LinearSVC-l2没有，分析原因主要是该项目中在向量化之前已经进行了特征筛选，剩余1000个特征 词汇，对于一条评论命中一个词汇概率已经较低。LinearSVC-l1利用l1作为惩罚项，本身就具备特征筛选的作用，对 于很多评论而言，这很可能导致参数为0，所以收敛性无法保证。\n",
    "\n",
    "通过三者对比，特征选择与否以及数据本身特征对于模型的选择和建立很重要。"
   ]
  }
 ],
 "metadata": {
  "hide_input": false,
  "kernelspec": {
   "display_name": "Python 3",
   "language": "python",
   "name": "python3"
  },
  "language_info": {
   "codemirror_mode": {
    "name": "ipython",
    "version": 3
   },
   "file_extension": ".py",
   "mimetype": "text/x-python",
   "name": "python",
   "nbconvert_exporter": "python",
   "pygments_lexer": "ipython3",
   "version": "3.6.5"
  },
  "latex_envs": {
   "LaTeX_envs_menu_present": true,
   "autoclose": false,
   "autocomplete": true,
   "bibliofile": "biblio.bib",
   "cite_by": "apalike",
   "current_citInitial": 1,
   "eqLabelWithNumbers": true,
   "eqNumInitial": 1,
   "hotkeys": {
    "equation": "Ctrl-E",
    "itemize": "Ctrl-I"
   },
   "labels_anchors": false,
   "latex_user_defs": false,
   "report_style_numbering": false,
   "user_envs_cfg": false
  },
  "toc": {
   "base_numbering": 1,
   "nav_menu": {},
   "number_sections": true,
   "sideBar": true,
   "skip_h1_title": false,
   "title_cell": "Table of Contents",
   "title_sidebar": "Contents",
   "toc_cell": false,
   "toc_position": {},
   "toc_section_display": true,
   "toc_window_display": false
  }
 },
 "nbformat": 4,
 "nbformat_minor": 2
}
